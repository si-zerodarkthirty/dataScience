{
  "nbformat": 4,
  "nbformat_minor": 0,
  "metadata": {
    "colab": {
      "name": "leeds2003.ipynb",
      "provenance": [],
      "toc_visible": true,
      "mount_file_id": "1uBqMYH8HSb9t1hRBIo3fNjAJdu7lHl4k",
      "authorship_tag": "ABX9TyML3ixMXRedJTbjk0g7IprK",
      "include_colab_link": true
    },
    "kernelspec": {
      "name": "python3",
      "display_name": "Python 3"
    }
  },
  "cells": [
    {
      "cell_type": "markdown",
      "metadata": {
        "id": "view-in-github",
        "colab_type": "text"
      },
      "source": [
        "<a href=\"https://colab.research.google.com/github/si-zerodarkthirty/dataScience/blob/master/leeds2003.ipynb\" target=\"_parent\"><img src=\"https://colab.research.google.com/assets/colab-badge.svg\" alt=\"Open In Colab\"/></a>"
      ]
    },
    {
      "cell_type": "markdown",
      "metadata": {
        "id": "Mz-K8iC6qW4L",
        "colab_type": "text"
      },
      "source": [
        "# Replication of Leeds(2003) \"Do Alliances Deter Aggression? The Influence of Military Alliances on the Initiation of Militarized Interstate Disputes\"\n",
        "\n",
        "In order to test these arguments about the influence of outside allies on the probability that a potential challenger will initiate a militarized dispute against a particular target, I employ a dataset that includes all states in interactions with the states in their politically relevant international environments for each year from 1816 to 1944. The unit of analysis is the directed dyad year."
      ]
    },
    {
      "cell_type": "code",
      "metadata": {
        "id": "Hwew4fvHl__o",
        "colab_type": "code",
        "colab": {
          "base_uri": "https://localhost:8080/",
          "height": 204
        },
        "outputId": "e0e13b59-9d57-4f66-d7a4-9a2ea55f3a59"
      },
      "source": [
        "import pandas as pd\n",
        "\n",
        "df = pd.read_table('/content/drive/My Drive/dataScience/LeedsAJPS03.tab')\n",
        "df.head()"
      ],
      "execution_count": 1,
      "outputs": [
        {
          "output_type": "execute_result",
          "data": {
            "text/html": [
              "<div>\n",
              "<style scoped>\n",
              "    .dataframe tbody tr th:only-of-type {\n",
              "        vertical-align: middle;\n",
              "    }\n",
              "\n",
              "    .dataframe tbody tr th {\n",
              "        vertical-align: top;\n",
              "    }\n",
              "\n",
              "    .dataframe thead th {\n",
              "        text-align: right;\n",
              "    }\n",
              "</style>\n",
              "<table border=\"1\" class=\"dataframe\">\n",
              "  <thead>\n",
              "    <tr style=\"text-align: right;\">\n",
              "      <th></th>\n",
              "      <th>dyad</th>\n",
              "      <th>year</th>\n",
              "      <th>dispute</th>\n",
              "      <th>jdem</th>\n",
              "      <th>contig</th>\n",
              "      <th>capprop</th>\n",
              "      <th>atopally</th>\n",
              "      <th>swtglo</th>\n",
              "      <th>ptargdef</th>\n",
              "      <th>pchaloff</th>\n",
              "      <th>pchalneu</th>\n",
              "    </tr>\n",
              "  </thead>\n",
              "  <tbody>\n",
              "    <tr>\n",
              "      <th>0</th>\n",
              "      <td>2020</td>\n",
              "      <td>1920</td>\n",
              "      <td>0</td>\n",
              "      <td>1</td>\n",
              "      <td>1</td>\n",
              "      <td>0.963415</td>\n",
              "      <td>0</td>\n",
              "      <td>0.376846</td>\n",
              "      <td>0</td>\n",
              "      <td>0</td>\n",
              "      <td>0</td>\n",
              "    </tr>\n",
              "    <tr>\n",
              "      <th>1</th>\n",
              "      <td>2020</td>\n",
              "      <td>1921</td>\n",
              "      <td>0</td>\n",
              "      <td>1</td>\n",
              "      <td>1</td>\n",
              "      <td>0.956675</td>\n",
              "      <td>0</td>\n",
              "      <td>0.418034</td>\n",
              "      <td>0</td>\n",
              "      <td>0</td>\n",
              "      <td>0</td>\n",
              "    </tr>\n",
              "    <tr>\n",
              "      <th>2</th>\n",
              "      <td>2020</td>\n",
              "      <td>1922</td>\n",
              "      <td>0</td>\n",
              "      <td>1</td>\n",
              "      <td>1</td>\n",
              "      <td>0.964514</td>\n",
              "      <td>0</td>\n",
              "      <td>0.427329</td>\n",
              "      <td>0</td>\n",
              "      <td>0</td>\n",
              "      <td>0</td>\n",
              "    </tr>\n",
              "    <tr>\n",
              "      <th>3</th>\n",
              "      <td>2020</td>\n",
              "      <td>1923</td>\n",
              "      <td>0</td>\n",
              "      <td>1</td>\n",
              "      <td>1</td>\n",
              "      <td>0.961313</td>\n",
              "      <td>0</td>\n",
              "      <td>0.413453</td>\n",
              "      <td>0</td>\n",
              "      <td>0</td>\n",
              "      <td>0</td>\n",
              "    </tr>\n",
              "    <tr>\n",
              "      <th>4</th>\n",
              "      <td>2020</td>\n",
              "      <td>1924</td>\n",
              "      <td>0</td>\n",
              "      <td>1</td>\n",
              "      <td>1</td>\n",
              "      <td>0.962260</td>\n",
              "      <td>0</td>\n",
              "      <td>0.469707</td>\n",
              "      <td>0</td>\n",
              "      <td>0</td>\n",
              "      <td>0</td>\n",
              "    </tr>\n",
              "  </tbody>\n",
              "</table>\n",
              "</div>"
            ],
            "text/plain": [
              "   dyad  year  dispute  jdem  ...    swtglo  ptargdef  pchaloff  pchalneu\n",
              "0  2020  1920        0     1  ...  0.376846         0         0         0\n",
              "1  2020  1921        0     1  ...  0.418034         0         0         0\n",
              "2  2020  1922        0     1  ...  0.427329         0         0         0\n",
              "3  2020  1923        0     1  ...  0.413453         0         0         0\n",
              "4  2020  1924        0     1  ...  0.469707         0         0         0\n",
              "\n",
              "[5 rows x 11 columns]"
            ]
          },
          "metadata": {
            "tags": []
          },
          "execution_count": 1
        }
      ]
    },
    {
      "cell_type": "markdown",
      "metadata": {
        "id": "DNbQqpgaqmUL",
        "colab_type": "text"
      },
      "source": [
        "## Variables\n",
        "\n",
        "### DV\n",
        "__dispute:__ whether a potential challenger started MIDs against a potential target in each year.\n",
        "\n",
        "### IV\n",
        "\n",
        "\n",
        "\n",
        "### CV\n",
        "\n",
        "__jdem:__ Joint democracy.\n",
        "\n",
        "__capprop:__  Power of potential challenger in relation to potential target.\n",
        "\n",
        "__atop__"
      ]
    }
  ]
}